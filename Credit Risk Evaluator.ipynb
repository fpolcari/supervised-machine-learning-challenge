{
 "cells": [
  {
   "cell_type": "code",
   "execution_count": 1,
   "metadata": {},
   "outputs": [],
   "source": [
    "import numpy as np\n",
    "import pandas as pd\n",
    "from pathlib import Path\n",
    "from sklearn.model_selection import train_test_split\n",
    "import warnings\n",
    "warnings.filterwarnings('ignore')\n",
    "from sklearn.linear_model import LogisticRegression\n",
    "from sklearn.ensemble import RandomForestClassifier"
   ]
  },
  {
   "cell_type": "markdown",
   "metadata": {},
   "source": [
    "Prediction\n",
    "The logistic regression model will perform better than the random forests classifier because logistic regression is easier to implement, interpret, and very efficient to train. It is very fast at classifying unknown records. It performs well when the dataset is linearly separable. Finally, it can interpret model coefficients as indicators of feature importance."
   ]
  },
  {
   "cell_type": "code",
   "execution_count": 2,
   "metadata": {
    "scrolled": true
   },
   "outputs": [
    {
     "name": "stdout",
     "output_type": "stream",
     "text": [
      "       loan_size  interest_rate  borrower_income  debt_to_income  \\\n",
      "0        10700.0          7.672            52800        0.431818   \n",
      "1         8400.0          6.692            43600        0.311927   \n",
      "2         9000.0          6.963            46100        0.349241   \n",
      "3        10700.0          7.664            52700        0.430740   \n",
      "4        10800.0          7.698            53000        0.433962   \n",
      "...          ...            ...              ...             ...   \n",
      "38763     8200.0          6.629            43000        0.302326   \n",
      "38764    10700.0          7.665            52700        0.430740   \n",
      "38765     9600.0          7.219            48500        0.381443   \n",
      "38766     9700.0          7.259            48900        0.386503   \n",
      "38767     8600.0          6.761            44200        0.321267   \n",
      "\n",
      "       num_of_accounts  derogatory_marks  total_debt  loan_status  \n",
      "0                    5                 1       22800            0  \n",
      "1                    3                 0       13600            0  \n",
      "2                    3                 0       16100            0  \n",
      "3                    5                 1       22700            0  \n",
      "4                    5                 1       23000            0  \n",
      "...                ...               ...         ...          ...  \n",
      "38763                2                 0       13000            0  \n",
      "38764                5                 1       22700            0  \n",
      "38765                4                 0       18500            0  \n",
      "38766                4                 0       18900            0  \n",
      "38767                3                 0       14200            0  \n",
      "\n",
      "[38768 rows x 8 columns]\n",
      "       loan_size  interest_rate  borrower_income  debt_to_income  \\\n",
      "0        11000.0          7.821            54200        0.446494   \n",
      "1         6900.0          6.074            37800        0.206349   \n",
      "2         9100.0          7.005            46500        0.354839   \n",
      "3        11400.0          7.975            55600        0.460432   \n",
      "4         8800.0          6.873            45300        0.337748   \n",
      "...          ...            ...              ...             ...   \n",
      "38763    19100.0         11.261            86600        0.653580   \n",
      "38764    17700.0         10.662            80900        0.629172   \n",
      "38765    17600.0         10.595            80300        0.626401   \n",
      "38766    16300.0         10.068            75300        0.601594   \n",
      "38767    15600.0          9.742            72300        0.585062   \n",
      "\n",
      "       num_of_accounts  derogatory_marks  total_debt  loan_status  \n",
      "0                    5                 1       24200            0  \n",
      "1                    1                 0        7800            0  \n",
      "2                    3                 0       16500            0  \n",
      "3                    5                 1       25600            0  \n",
      "4                    3                 0       15300            0  \n",
      "...                ...               ...         ...          ...  \n",
      "38763               12                 2       56600            1  \n",
      "38764               11                 2       50900            1  \n",
      "38765               11                 2       50300            1  \n",
      "38766               10                 2       45300            1  \n",
      "38767                9                 2       42300            1  \n",
      "\n",
      "[38768 rows x 8 columns]\n"
     ]
    }
   ],
   "source": [
    "# Import the data\n",
    "data = pd.read_csv(Path('Resources/lending_data.csv'))\n",
    "\n",
    "# no of csv files with row size\n",
    "k = 2\n",
    "size = 38768\n",
    " \n",
    "for i in range(k):\n",
    "    df = data[size*i:size*(i+19)]\n",
    "    df.to_csv(f'lendingData{i+15}.csv', index=False)\n",
    " \n",
    "df_1 = pd.read_csv(\"lendingData1.csv\")\n",
    "print(df_1)\n",
    " \n",
    "df_2 = pd.read_csv(\"lendingData2.csv\")\n",
    "print(df_2)\n",
    "\n"
   ]
  },
  {
   "cell_type": "code",
   "execution_count": 3,
   "metadata": {},
   "outputs": [],
   "source": [
    "# convert the target column values to low_risk and high_risk based on their values\n",
    "x = {'0': 'low_risk'}\n",
    "df_1 = df.replace(x)"
   ]
  },
  {
   "cell_type": "code",
   "execution_count": 4,
   "metadata": {},
   "outputs": [],
   "source": [
    "# convert the target column values to low_risk and high_risk based on their values\n",
    "x = {'0': 'low_risk'}\n",
    "df_2 = df.replace(x)"
   ]
  },
  {
   "cell_type": "code",
   "execution_count": 5,
   "metadata": {},
   "outputs": [],
   "source": [
    "# separate the target feature for training data\n",
    "x_train = pd.get_dummies(df_1.drop(columns=['loan_status']))\n",
    "y_train = df_1['loan_status']"
   ]
  },
  {
   "cell_type": "code",
   "execution_count": 6,
   "metadata": {},
   "outputs": [],
   "source": [
    "x_test = pd.get_dummies(df_2.drop(columns=['loan_status']))\n",
    "y_test = df_2['loan_status']"
   ]
  },
  {
   "cell_type": "code",
   "execution_count": 7,
   "metadata": {},
   "outputs": [
    {
     "data": {
      "text/plain": [
       "0.9921326867519604"
      ]
     },
     "execution_count": 7,
     "metadata": {},
     "output_type": "execute_result"
    }
   ],
   "source": [
    "# Train a Logistic Regression model print the model score\n",
    "classifier = LogisticRegression()\n",
    "classifier.fit(x_train, y_train)\n",
    "classifier.score(x_test, y_test)"
   ]
  },
  {
   "cell_type": "code",
   "execution_count": 8,
   "metadata": {},
   "outputs": [
    {
     "data": {
      "text/plain": [
       "0.9969046636401155"
      ]
     },
     "execution_count": 8,
     "metadata": {},
     "output_type": "execute_result"
    }
   ],
   "source": [
    "# Train a Random Forest Classifier model and print the model score\n",
    "rfc = RandomForestClassifier()\n",
    "rfc.fit(x_train, y_train)\n",
    "rfc.score(x_test, y_test)"
   ]
  },
  {
   "cell_type": "code",
   "execution_count": 9,
   "metadata": {},
   "outputs": [],
   "source": [
    "#scale the data\n",
    "from sklearn.preprocessing import StandardScaler\n",
    "scaler = StandardScaler()\n",
    "scaler.fit(x_train)\n",
    "x_train_scaled = scaler.transform(x_train)\n",
    "x_test_scaled = scaler.transform(x_test)"
   ]
  },
  {
   "cell_type": "code",
   "execution_count": 10,
   "metadata": {},
   "outputs": [
    {
     "data": {
      "text/plain": [
       "0.9938093272802311"
      ]
     },
     "execution_count": 10,
     "metadata": {},
     "output_type": "execute_result"
    }
   ],
   "source": [
    "# Train the Logistic Regression Model on the scaled data and print the model score\n",
    "classifier = LogisticRegression()\n",
    "classifier.fit(x_train_scaled, y_train)\n",
    "classifier.score(x_test_scaled, y_test)"
   ]
  },
  {
   "cell_type": "code",
   "execution_count": 12,
   "metadata": {},
   "outputs": [
    {
     "data": {
      "text/plain": [
       "0.9969046636401155"
      ]
     },
     "execution_count": 12,
     "metadata": {},
     "output_type": "execute_result"
    }
   ],
   "source": [
    "# Train the Random Forest Classifier model on the scaled data and print the model score\n",
    "rfc = RandomForestClassifier()\n",
    "rfc.fit(x_train_scaled, y_train)\n",
    "rfc.score(x_test_scaled, y_test)"
   ]
  },
  {
   "cell_type": "code",
   "execution_count": null,
   "metadata": {},
   "outputs": [],
   "source": []
  }
 ],
 "metadata": {
  "kernelspec": {
   "display_name": "Python 3 (ipykernel)",
   "language": "python",
   "name": "python3"
  },
  "language_info": {
   "codemirror_mode": {
    "name": "ipython",
    "version": 3
   },
   "file_extension": ".py",
   "mimetype": "text/x-python",
   "name": "python",
   "nbconvert_exporter": "python",
   "pygments_lexer": "ipython3",
   "version": "3.9.12"
  }
 },
 "nbformat": 4,
 "nbformat_minor": 4
}
